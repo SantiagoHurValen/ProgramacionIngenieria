{
 "cells": [
  {
   "cell_type": "markdown",
   "metadata": {},
   "source": [
    "## Calibracion_Robot2GDL_lineal\n",
    "### Sebastian Durango \n",
    "### Departamento de Mecánica y Producción\n",
    "### UAM -- Revisado y ajustado: enero 2024\n",
    "### Calibracion cinematica de un robot planar de dos eslabones\n",
    "### Usa una regresion de minimos cuadrados ordinaria (_OLS_) para estimar las longitudes de un robot de dos eslabones. \n",
    "### El modelo geométrico del robot es lineal en los parámetros $a_1$ y $a_2$ (longitudes de los eslabones):\n",
    "### \n",
    "### $x=a_1\\cos \\theta_1 + a_2\\cos(\\theta_1 + \\theta_2) + e_x$ \n",
    "### $y=a_1\\sin \\theta_1 + a_2\\sin(\\theta_1 + \\theta_2) + e_y$"
   ]
  },
  {
   "cell_type": "code",
   "execution_count": null,
   "metadata": {},
   "outputs": [],
   "source": [
    "import numpy as np\n",
    "import matplotlib.pyplot as plt\n",
    "from scipy.io import loadmat"
   ]
  },
  {
   "cell_type": "markdown",
   "metadata": {},
   "source": [
    "### Parámetros y carga de datos \"experimentales\" (experimento in silico)\n",
    "####  $x$ es la primera columna del registro $P$\n",
    "####  y es la segunda columna del registro $P$\n",
    "####  $\\theta_1$ es la primera columna del registro $\\Theta$\n",
    "####  $\\theta_2$ es la segunda columna del registro $\\Theta$\n",
    "####  $a_{1, nominal} = 1$\n",
    "####  $a_{2, nominal} = 1,5$"
   ]
  },
  {
   "cell_type": "code",
   "execution_count": null,
   "metadata": {},
   "outputs": [],
   "source": [
    "a1n = 1\n",
    "a2n = 1.5\n",
    "data = loadmat('Datos_robot_2gdl_error_P') \n",
    "Theta = data['Theta'] # primera columna es $theta_1$, segunda columna es $theta_2$\n",
    "P = data['P'] # primera columna es $x$, segunda columna es $y$"
   ]
  },
  {
   "cell_type": "markdown",
   "metadata": {},
   "source": [
    "#### Alistamiento de la matriz de regresion y de los datos experimentales\n",
    "#### $\\theta_{12}=\\theta_1+\\theta_2$. "
   ]
  },
  {
   "cell_type": "code",
   "execution_count": null,
   "metadata": {},
   "outputs": [],
   "source": [
    "theta1 = Theta[:, 0]\n",
    "theta2 = Theta[:, 1]\n",
    "theta12 = theta1 + theta2\n",
    "\n",
    "x = P[:, 0]\n",
    "y = P[:, 1]\n",
    "\n",
    "# instrucción: Construir el regresor y almacenarlo en la variable A"
   ]
  },
  {
   "cell_type": "markdown",
   "metadata": {},
   "source": [
    "#### Solucion usando OLS"
   ]
  },
  {
   "cell_type": "code",
   "execution_count": null,
   "metadata": {},
   "outputs": [],
   "source": [
    "# Instrucciones: Realizar la regresión, almancenar la variable phi, extraer las variables corregidas a1 y a2"
   ]
  },
  {
   "cell_type": "markdown",
   "metadata": {},
   "source": [
    "#### Evaluacion del desempeño (_B_ para el codo, _C_ para el extremo)"
   ]
  },
  {
   "cell_type": "code",
   "execution_count": null,
   "metadata": {},
   "outputs": [],
   "source": [
    "#xb = a1 * np.cos(theta1)\n",
    "#yb = a1 * np.sin(theta1)\n",
    "#xc = xb + a2 * np.cos(theta12)\n",
    "#yc = yb + a2 * np.sin(theta12)\n",
    "#xbn = a1n * np.cos(theta1)\n",
    "#ybn = a1n * np.sin(theta1)\n",
    "#xcn = xbn + a2n * np.cos(theta12)\n",
    "#ycn = ybn + a2n * np.sin(theta12)\n",
    "\n",
    "# Salida gráfica\n",
    "#plt.figure()\n",
    "#plt.plot(x, y, 'o', xc, yc, '+', xcn, ycn, '*')\n",
    "#plt.xlabel('x')\n",
    "#plt.ylabel('y')\n",
    "#plt.legend(['Posicion medida', 'Posicion modelo ajustado', 'Posicion nominal'], loc='best')\n",
    "#plt.title(f'Calibración robot 2GDL, a = {a1:.4f}, b = {a2:.4f}')\n",
    "#plt.axis('equal')\n",
    "#plt.grid(True)\n",
    "#plt.show()"
   ]
  }
 ],
 "metadata": {
  "kernelspec": {
   "display_name": "Python 3",
   "language": "python",
   "name": "python3"
  },
  "language_info": {
   "codemirror_mode": {
    "name": "ipython",
    "version": 3
   },
   "file_extension": ".py",
   "mimetype": "text/x-python",
   "name": "python",
   "nbconvert_exporter": "python",
   "pygments_lexer": "ipython3",
   "version": "3.11.0"
  }
 },
 "nbformat": 4,
 "nbformat_minor": 2
}
